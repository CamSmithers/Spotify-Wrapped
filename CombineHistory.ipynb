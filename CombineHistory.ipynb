{
 "cells": [
  {
   "cell_type": "code",
   "execution_count": 1,
   "metadata": {},
   "outputs": [],
   "source": [
    "import pandas as pd\n",
    "import os\n",
    "import json"
   ]
  },
  {
   "cell_type": "code",
   "execution_count": 2,
   "metadata": {},
   "outputs": [],
   "source": [
    "gen_path = '/Users/camsmithers/Desktop/Camalytics/CamalyticsEnv/CINC/MusicRequest/'\n",
    "user_path = 'GeorgeA/George Spotify History'"
   ]
  },
  {
   "cell_type": "code",
   "execution_count": 5,
   "metadata": {},
   "outputs": [],
   "source": [
    "json_files = [f for f in os.listdir(gen_path + user_path) if f.endswith('.json') and 'Audio' in f]\n",
    "\n",
    "dataframes = []\n",
    "\n",
    "for file in json_files:\n",
    "    with open(gen_path + user_path + f'/{file}', 'r') as f:\n",
    "        json_data = json.load(f)\n",
    "        df = pd.json_normalize(json_data)\n",
    "        dataframes.append(df)\n",
    "\n",
    "combinded_df = pd.concat(dataframes, ignore_index=True)\n",
    "\n",
    "combinded_df.to_csv(gen_path + user_path + '/spotify_data.csv')"
   ]
  }
 ],
 "metadata": {
  "kernelspec": {
   "display_name": "CamalyticsEnv",
   "language": "python",
   "name": "python3"
  },
  "language_info": {
   "codemirror_mode": {
    "name": "ipython",
    "version": 3
   },
   "file_extension": ".py",
   "mimetype": "text/x-python",
   "name": "python",
   "nbconvert_exporter": "python",
   "pygments_lexer": "ipython3",
   "version": "3.12.3"
  }
 },
 "nbformat": 4,
 "nbformat_minor": 2
}
